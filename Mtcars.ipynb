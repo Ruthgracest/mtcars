{
  "nbformat": 4,
  "nbformat_minor": 0,
  "metadata": {
    "colab": {
      "name": "Mtcars",
      "provenance": [],
      "collapsed_sections": []
    },
    "kernelspec": {
      "name": "python3",
      "display_name": "Python 3"
    }
  },
  "cells": [
    {
      "cell_type": "code",
      "metadata": {
        "id": "DL2GkcqJ_yjd",
        "colab_type": "code",
        "colab": {}
      },
      "source": [
        "import pandas as pd\n",
        "import seaborn as sns\n",
        "import matplotlib.pyplot as plt\n",
        "import numpy as np"
      ],
      "execution_count": null,
      "outputs": []
    },
    {
      "cell_type": "code",
      "metadata": {
        "id": "4jyWbLqQAimn",
        "colab_type": "code",
        "colab": {}
      },
      "source": [
        "df=pd.read_csv('/content/drive/My Drive/App/mtcars - Data.csv')"
      ],
      "execution_count": null,
      "outputs": []
    },
    {
      "cell_type": "markdown",
      "metadata": {
        "id": "LBiujV7xMyDU",
        "colab_type": "text"
      },
      "source": [
        "# **Data Preparation**"
      ]
    },
    {
      "cell_type": "markdown",
      "metadata": {
        "id": "IBWcIpzCNsXT",
        "colab_type": "text"
      },
      "source": [
        "> **Check Missing Values**"
      ]
    },
    {
      "cell_type": "code",
      "metadata": {
        "id": "jt9aRQJ8A1U8",
        "colab_type": "code",
        "colab": {
          "base_uri": "https://localhost:8080/",
          "height": 197
        },
        "outputId": "048d3ffd-ba5a-41f5-c2b3-2dad07d3330b"
      },
      "source": [
        "df.head()"
      ],
      "execution_count": null,
      "outputs": [
        {
          "output_type": "execute_result",
          "data": {
            "text/html": [
              "<div>\n",
              "<style scoped>\n",
              "    .dataframe tbody tr th:only-of-type {\n",
              "        vertical-align: middle;\n",
              "    }\n",
              "\n",
              "    .dataframe tbody tr th {\n",
              "        vertical-align: top;\n",
              "    }\n",
              "\n",
              "    .dataframe thead th {\n",
              "        text-align: right;\n",
              "    }\n",
              "</style>\n",
              "<table border=\"1\" class=\"dataframe\">\n",
              "  <thead>\n",
              "    <tr style=\"text-align: right;\">\n",
              "      <th></th>\n",
              "      <th>Cars</th>\n",
              "      <th>mpg</th>\n",
              "      <th>cyl</th>\n",
              "      <th>disp</th>\n",
              "      <th>hp</th>\n",
              "      <th>drat</th>\n",
              "      <th>wt</th>\n",
              "      <th>qsec</th>\n",
              "      <th>vs</th>\n",
              "      <th>am</th>\n",
              "      <th>gear</th>\n",
              "      <th>carb</th>\n",
              "    </tr>\n",
              "  </thead>\n",
              "  <tbody>\n",
              "    <tr>\n",
              "      <th>0</th>\n",
              "      <td>Mazda RX4</td>\n",
              "      <td>21.0</td>\n",
              "      <td>6</td>\n",
              "      <td>160.0</td>\n",
              "      <td>110</td>\n",
              "      <td>3.90</td>\n",
              "      <td>2.620</td>\n",
              "      <td>16.46</td>\n",
              "      <td>0</td>\n",
              "      <td>1</td>\n",
              "      <td>4</td>\n",
              "      <td>4</td>\n",
              "    </tr>\n",
              "    <tr>\n",
              "      <th>1</th>\n",
              "      <td>Mazda RX4 Wag</td>\n",
              "      <td>21.0</td>\n",
              "      <td>6</td>\n",
              "      <td>160.0</td>\n",
              "      <td>110</td>\n",
              "      <td>3.90</td>\n",
              "      <td>2.875</td>\n",
              "      <td>17.02</td>\n",
              "      <td>0</td>\n",
              "      <td>1</td>\n",
              "      <td>4</td>\n",
              "      <td>4</td>\n",
              "    </tr>\n",
              "    <tr>\n",
              "      <th>2</th>\n",
              "      <td>Datsun 710</td>\n",
              "      <td>22.8</td>\n",
              "      <td>4</td>\n",
              "      <td>108.0</td>\n",
              "      <td>93</td>\n",
              "      <td>3.85</td>\n",
              "      <td>2.320</td>\n",
              "      <td>18.61</td>\n",
              "      <td>1</td>\n",
              "      <td>1</td>\n",
              "      <td>4</td>\n",
              "      <td>1</td>\n",
              "    </tr>\n",
              "    <tr>\n",
              "      <th>3</th>\n",
              "      <td>Hornet 4 Drive</td>\n",
              "      <td>21.4</td>\n",
              "      <td>6</td>\n",
              "      <td>258.0</td>\n",
              "      <td>110</td>\n",
              "      <td>3.08</td>\n",
              "      <td>3.215</td>\n",
              "      <td>19.44</td>\n",
              "      <td>1</td>\n",
              "      <td>0</td>\n",
              "      <td>3</td>\n",
              "      <td>1</td>\n",
              "    </tr>\n",
              "    <tr>\n",
              "      <th>4</th>\n",
              "      <td>Hornet Sportabout</td>\n",
              "      <td>18.7</td>\n",
              "      <td>8</td>\n",
              "      <td>360.0</td>\n",
              "      <td>175</td>\n",
              "      <td>3.15</td>\n",
              "      <td>3.440</td>\n",
              "      <td>17.02</td>\n",
              "      <td>0</td>\n",
              "      <td>0</td>\n",
              "      <td>3</td>\n",
              "      <td>2</td>\n",
              "    </tr>\n",
              "  </tbody>\n",
              "</table>\n",
              "</div>"
            ],
            "text/plain": [
              "                Cars   mpg  cyl   disp   hp  ...   qsec  vs  am  gear  carb\n",
              "0          Mazda RX4  21.0    6  160.0  110  ...  16.46   0   1     4     4\n",
              "1      Mazda RX4 Wag  21.0    6  160.0  110  ...  17.02   0   1     4     4\n",
              "2         Datsun 710  22.8    4  108.0   93  ...  18.61   1   1     4     1\n",
              "3     Hornet 4 Drive  21.4    6  258.0  110  ...  19.44   1   0     3     1\n",
              "4  Hornet Sportabout  18.7    8  360.0  175  ...  17.02   0   0     3     2\n",
              "\n",
              "[5 rows x 12 columns]"
            ]
          },
          "metadata": {
            "tags": []
          },
          "execution_count": 180
        }
      ]
    },
    {
      "cell_type": "code",
      "metadata": {
        "id": "ioshSWN8A4r7",
        "colab_type": "code",
        "colab": {
          "base_uri": "https://localhost:8080/",
          "height": 333
        },
        "outputId": "593e515f-b08f-4a52-cda4-43764b64dccb"
      },
      "source": [
        "df.info()"
      ],
      "execution_count": null,
      "outputs": [
        {
          "output_type": "stream",
          "text": [
            "<class 'pandas.core.frame.DataFrame'>\n",
            "RangeIndex: 32 entries, 0 to 31\n",
            "Data columns (total 12 columns):\n",
            " #   Column  Non-Null Count  Dtype  \n",
            "---  ------  --------------  -----  \n",
            " 0   Cars    32 non-null     object \n",
            " 1   mpg     32 non-null     float64\n",
            " 2   cyl     32 non-null     int64  \n",
            " 3   disp    32 non-null     float64\n",
            " 4   hp      32 non-null     int64  \n",
            " 5   drat    32 non-null     float64\n",
            " 6   wt      32 non-null     float64\n",
            " 7   qsec    32 non-null     float64\n",
            " 8   vs      32 non-null     int64  \n",
            " 9   am      32 non-null     int64  \n",
            " 10  gear    32 non-null     int64  \n",
            " 11  carb    32 non-null     int64  \n",
            "dtypes: float64(5), int64(6), object(1)\n",
            "memory usage: 3.1+ KB\n"
          ],
          "name": "stdout"
        }
      ]
    },
    {
      "cell_type": "code",
      "metadata": {
        "id": "2fwKVop7A-Mp",
        "colab_type": "code",
        "colab": {
          "base_uri": "https://localhost:8080/",
          "height": 233
        },
        "outputId": "6bed0030-2b65-42fd-941a-5b6f26608436"
      },
      "source": [
        "df.isnull().sum()"
      ],
      "execution_count": null,
      "outputs": [
        {
          "output_type": "execute_result",
          "data": {
            "text/plain": [
              "Cars    0\n",
              "mpg     0\n",
              "cyl     0\n",
              "disp    0\n",
              "hp      0\n",
              "drat    0\n",
              "wt      0\n",
              "qsec    0\n",
              "vs      0\n",
              "am      0\n",
              "gear    0\n",
              "carb    0\n",
              "dtype: int64"
            ]
          },
          "metadata": {
            "tags": []
          },
          "execution_count": 182
        }
      ]
    },
    {
      "cell_type": "markdown",
      "metadata": {
        "id": "PIAbQ9R3NELs",
        "colab_type": "text"
      },
      "source": [
        "> **Add New A Column : mpg_level**"
      ]
    },
    {
      "cell_type": "code",
      "metadata": {
        "id": "iSvbT58xBLaO",
        "colab_type": "code",
        "colab": {}
      },
      "source": [
        "df['mpg_level']=df['mpg'].apply(lambda x: 'low' if x<20 else ('medium' if x>=20 and x<=30 else 'hard'))"
      ],
      "execution_count": null,
      "outputs": []
    },
    {
      "cell_type": "code",
      "metadata": {
        "id": "yGEDJz7Raq6_",
        "colab_type": "code",
        "colab": {
          "base_uri": "https://localhost:8080/",
          "height": 83
        },
        "outputId": "497bef60-3811-4536-f884-3ba2cbc4edd8"
      },
      "source": [
        "df.mpg_level.value_counts()"
      ],
      "execution_count": null,
      "outputs": [
        {
          "output_type": "execute_result",
          "data": {
            "text/plain": [
              "low       18\n",
              "medium    10\n",
              "hard       4\n",
              "Name: mpg_level, dtype: int64"
            ]
          },
          "metadata": {
            "tags": []
          },
          "execution_count": 184
        }
      ]
    },
    {
      "cell_type": "markdown",
      "metadata": {
        "id": "W8PqFcxKNbDB",
        "colab_type": "text"
      },
      "source": [
        "> **Replace** "
      ]
    },
    {
      "cell_type": "code",
      "metadata": {
        "id": "y7YXTyhMHlXc",
        "colab_type": "code",
        "colab": {}
      },
      "source": [
        "df['am'] = df['am'].astype('str').str.replace('0','Automatic').replace('1','Manual')\n",
        "df['vs'] = df['vs'].astype('str').str.replace('0','V-shape').replace('1','Straight')\n"
      ],
      "execution_count": 228,
      "outputs": []
    },
    {
      "cell_type": "markdown",
      "metadata": {
        "id": "2yLGlB4zQzc5",
        "colab_type": "text"
      },
      "source": [
        "#**EDA**"
      ]
    },
    {
      "cell_type": "code",
      "metadata": {
        "id": "Ppk6SSKoBtoS",
        "colab_type": "code",
        "colab": {
          "base_uri": "https://localhost:8080/",
          "height": 1000
        },
        "outputId": "ff467a78-e654-4532-acba-42d65c3a92c6"
      },
      "source": [
        "df"
      ],
      "execution_count": null,
      "outputs": [
        {
          "output_type": "execute_result",
          "data": {
            "text/html": [
              "<div>\n",
              "<style scoped>\n",
              "    .dataframe tbody tr th:only-of-type {\n",
              "        vertical-align: middle;\n",
              "    }\n",
              "\n",
              "    .dataframe tbody tr th {\n",
              "        vertical-align: top;\n",
              "    }\n",
              "\n",
              "    .dataframe thead th {\n",
              "        text-align: right;\n",
              "    }\n",
              "</style>\n",
              "<table border=\"1\" class=\"dataframe\">\n",
              "  <thead>\n",
              "    <tr style=\"text-align: right;\">\n",
              "      <th></th>\n",
              "      <th>Cars</th>\n",
              "      <th>mpg</th>\n",
              "      <th>cyl</th>\n",
              "      <th>disp</th>\n",
              "      <th>hp</th>\n",
              "      <th>drat</th>\n",
              "      <th>wt</th>\n",
              "      <th>qsec</th>\n",
              "      <th>vs</th>\n",
              "      <th>am</th>\n",
              "      <th>gear</th>\n",
              "      <th>carb</th>\n",
              "      <th>mpg_level</th>\n",
              "    </tr>\n",
              "  </thead>\n",
              "  <tbody>\n",
              "    <tr>\n",
              "      <th>0</th>\n",
              "      <td>Mazda RX4</td>\n",
              "      <td>21.0</td>\n",
              "      <td>6</td>\n",
              "      <td>160.0</td>\n",
              "      <td>110</td>\n",
              "      <td>3.90</td>\n",
              "      <td>2.620</td>\n",
              "      <td>16.46</td>\n",
              "      <td>V-shape</td>\n",
              "      <td>Manual</td>\n",
              "      <td>4</td>\n",
              "      <td>4</td>\n",
              "      <td>medium</td>\n",
              "    </tr>\n",
              "    <tr>\n",
              "      <th>1</th>\n",
              "      <td>Mazda RX4 Wag</td>\n",
              "      <td>21.0</td>\n",
              "      <td>6</td>\n",
              "      <td>160.0</td>\n",
              "      <td>110</td>\n",
              "      <td>3.90</td>\n",
              "      <td>2.875</td>\n",
              "      <td>17.02</td>\n",
              "      <td>V-shape</td>\n",
              "      <td>Manual</td>\n",
              "      <td>4</td>\n",
              "      <td>4</td>\n",
              "      <td>medium</td>\n",
              "    </tr>\n",
              "    <tr>\n",
              "      <th>2</th>\n",
              "      <td>Datsun 710</td>\n",
              "      <td>22.8</td>\n",
              "      <td>4</td>\n",
              "      <td>108.0</td>\n",
              "      <td>93</td>\n",
              "      <td>3.85</td>\n",
              "      <td>2.320</td>\n",
              "      <td>18.61</td>\n",
              "      <td>Flat</td>\n",
              "      <td>Manual</td>\n",
              "      <td>4</td>\n",
              "      <td>1</td>\n",
              "      <td>medium</td>\n",
              "    </tr>\n",
              "    <tr>\n",
              "      <th>3</th>\n",
              "      <td>Hornet 4 Drive</td>\n",
              "      <td>21.4</td>\n",
              "      <td>6</td>\n",
              "      <td>258.0</td>\n",
              "      <td>110</td>\n",
              "      <td>3.08</td>\n",
              "      <td>3.215</td>\n",
              "      <td>19.44</td>\n",
              "      <td>Flat</td>\n",
              "      <td>Automatic</td>\n",
              "      <td>3</td>\n",
              "      <td>1</td>\n",
              "      <td>medium</td>\n",
              "    </tr>\n",
              "    <tr>\n",
              "      <th>4</th>\n",
              "      <td>Hornet Sportabout</td>\n",
              "      <td>18.7</td>\n",
              "      <td>8</td>\n",
              "      <td>360.0</td>\n",
              "      <td>175</td>\n",
              "      <td>3.15</td>\n",
              "      <td>3.440</td>\n",
              "      <td>17.02</td>\n",
              "      <td>V-shape</td>\n",
              "      <td>Automatic</td>\n",
              "      <td>3</td>\n",
              "      <td>2</td>\n",
              "      <td>low</td>\n",
              "    </tr>\n",
              "    <tr>\n",
              "      <th>5</th>\n",
              "      <td>Valiant</td>\n",
              "      <td>18.1</td>\n",
              "      <td>6</td>\n",
              "      <td>225.0</td>\n",
              "      <td>105</td>\n",
              "      <td>2.76</td>\n",
              "      <td>3.460</td>\n",
              "      <td>20.22</td>\n",
              "      <td>Flat</td>\n",
              "      <td>Automatic</td>\n",
              "      <td>3</td>\n",
              "      <td>1</td>\n",
              "      <td>low</td>\n",
              "    </tr>\n",
              "    <tr>\n",
              "      <th>6</th>\n",
              "      <td>Duster 360</td>\n",
              "      <td>14.3</td>\n",
              "      <td>8</td>\n",
              "      <td>360.0</td>\n",
              "      <td>245</td>\n",
              "      <td>3.21</td>\n",
              "      <td>3.570</td>\n",
              "      <td>15.84</td>\n",
              "      <td>V-shape</td>\n",
              "      <td>Automatic</td>\n",
              "      <td>3</td>\n",
              "      <td>4</td>\n",
              "      <td>low</td>\n",
              "    </tr>\n",
              "    <tr>\n",
              "      <th>7</th>\n",
              "      <td>Merc 240D</td>\n",
              "      <td>24.4</td>\n",
              "      <td>4</td>\n",
              "      <td>146.7</td>\n",
              "      <td>62</td>\n",
              "      <td>3.69</td>\n",
              "      <td>3.190</td>\n",
              "      <td>20.00</td>\n",
              "      <td>Flat</td>\n",
              "      <td>Automatic</td>\n",
              "      <td>4</td>\n",
              "      <td>2</td>\n",
              "      <td>medium</td>\n",
              "    </tr>\n",
              "    <tr>\n",
              "      <th>8</th>\n",
              "      <td>Merc 230</td>\n",
              "      <td>22.8</td>\n",
              "      <td>4</td>\n",
              "      <td>140.8</td>\n",
              "      <td>95</td>\n",
              "      <td>3.92</td>\n",
              "      <td>3.150</td>\n",
              "      <td>22.90</td>\n",
              "      <td>Flat</td>\n",
              "      <td>Automatic</td>\n",
              "      <td>4</td>\n",
              "      <td>2</td>\n",
              "      <td>medium</td>\n",
              "    </tr>\n",
              "    <tr>\n",
              "      <th>9</th>\n",
              "      <td>Merc 280</td>\n",
              "      <td>19.2</td>\n",
              "      <td>6</td>\n",
              "      <td>167.6</td>\n",
              "      <td>123</td>\n",
              "      <td>3.92</td>\n",
              "      <td>3.440</td>\n",
              "      <td>18.30</td>\n",
              "      <td>Flat</td>\n",
              "      <td>Automatic</td>\n",
              "      <td>4</td>\n",
              "      <td>4</td>\n",
              "      <td>low</td>\n",
              "    </tr>\n",
              "    <tr>\n",
              "      <th>10</th>\n",
              "      <td>Merc 280C</td>\n",
              "      <td>17.8</td>\n",
              "      <td>6</td>\n",
              "      <td>167.6</td>\n",
              "      <td>123</td>\n",
              "      <td>3.92</td>\n",
              "      <td>3.440</td>\n",
              "      <td>18.90</td>\n",
              "      <td>Flat</td>\n",
              "      <td>Automatic</td>\n",
              "      <td>4</td>\n",
              "      <td>4</td>\n",
              "      <td>low</td>\n",
              "    </tr>\n",
              "    <tr>\n",
              "      <th>11</th>\n",
              "      <td>Merc 450SE</td>\n",
              "      <td>16.4</td>\n",
              "      <td>8</td>\n",
              "      <td>275.8</td>\n",
              "      <td>180</td>\n",
              "      <td>3.07</td>\n",
              "      <td>4.070</td>\n",
              "      <td>17.40</td>\n",
              "      <td>V-shape</td>\n",
              "      <td>Automatic</td>\n",
              "      <td>3</td>\n",
              "      <td>3</td>\n",
              "      <td>low</td>\n",
              "    </tr>\n",
              "    <tr>\n",
              "      <th>12</th>\n",
              "      <td>Merc 450SL</td>\n",
              "      <td>17.3</td>\n",
              "      <td>8</td>\n",
              "      <td>275.8</td>\n",
              "      <td>180</td>\n",
              "      <td>3.07</td>\n",
              "      <td>3.730</td>\n",
              "      <td>17.60</td>\n",
              "      <td>V-shape</td>\n",
              "      <td>Automatic</td>\n",
              "      <td>3</td>\n",
              "      <td>3</td>\n",
              "      <td>low</td>\n",
              "    </tr>\n",
              "    <tr>\n",
              "      <th>13</th>\n",
              "      <td>Merc 450SLC</td>\n",
              "      <td>15.2</td>\n",
              "      <td>8</td>\n",
              "      <td>275.8</td>\n",
              "      <td>180</td>\n",
              "      <td>3.07</td>\n",
              "      <td>3.780</td>\n",
              "      <td>18.00</td>\n",
              "      <td>V-shape</td>\n",
              "      <td>Automatic</td>\n",
              "      <td>3</td>\n",
              "      <td>3</td>\n",
              "      <td>low</td>\n",
              "    </tr>\n",
              "    <tr>\n",
              "      <th>14</th>\n",
              "      <td>Cadillac Fleetwood</td>\n",
              "      <td>10.4</td>\n",
              "      <td>8</td>\n",
              "      <td>472.0</td>\n",
              "      <td>205</td>\n",
              "      <td>2.93</td>\n",
              "      <td>5.250</td>\n",
              "      <td>17.98</td>\n",
              "      <td>V-shape</td>\n",
              "      <td>Automatic</td>\n",
              "      <td>3</td>\n",
              "      <td>4</td>\n",
              "      <td>low</td>\n",
              "    </tr>\n",
              "    <tr>\n",
              "      <th>15</th>\n",
              "      <td>Lincoln Continental</td>\n",
              "      <td>10.4</td>\n",
              "      <td>8</td>\n",
              "      <td>460.0</td>\n",
              "      <td>215</td>\n",
              "      <td>3.00</td>\n",
              "      <td>5.424</td>\n",
              "      <td>17.82</td>\n",
              "      <td>V-shape</td>\n",
              "      <td>Automatic</td>\n",
              "      <td>3</td>\n",
              "      <td>4</td>\n",
              "      <td>low</td>\n",
              "    </tr>\n",
              "    <tr>\n",
              "      <th>16</th>\n",
              "      <td>Chrysler Imperial</td>\n",
              "      <td>14.7</td>\n",
              "      <td>8</td>\n",
              "      <td>440.0</td>\n",
              "      <td>230</td>\n",
              "      <td>3.23</td>\n",
              "      <td>5.345</td>\n",
              "      <td>17.42</td>\n",
              "      <td>V-shape</td>\n",
              "      <td>Automatic</td>\n",
              "      <td>3</td>\n",
              "      <td>4</td>\n",
              "      <td>low</td>\n",
              "    </tr>\n",
              "    <tr>\n",
              "      <th>17</th>\n",
              "      <td>Fiat 128</td>\n",
              "      <td>32.4</td>\n",
              "      <td>4</td>\n",
              "      <td>78.7</td>\n",
              "      <td>66</td>\n",
              "      <td>4.08</td>\n",
              "      <td>2.200</td>\n",
              "      <td>19.47</td>\n",
              "      <td>Flat</td>\n",
              "      <td>Manual</td>\n",
              "      <td>4</td>\n",
              "      <td>1</td>\n",
              "      <td>hard</td>\n",
              "    </tr>\n",
              "    <tr>\n",
              "      <th>18</th>\n",
              "      <td>Honda Civic</td>\n",
              "      <td>30.4</td>\n",
              "      <td>4</td>\n",
              "      <td>75.7</td>\n",
              "      <td>52</td>\n",
              "      <td>4.93</td>\n",
              "      <td>1.615</td>\n",
              "      <td>18.52</td>\n",
              "      <td>Flat</td>\n",
              "      <td>Manual</td>\n",
              "      <td>4</td>\n",
              "      <td>2</td>\n",
              "      <td>hard</td>\n",
              "    </tr>\n",
              "    <tr>\n",
              "      <th>19</th>\n",
              "      <td>Toyota Corolla</td>\n",
              "      <td>33.9</td>\n",
              "      <td>4</td>\n",
              "      <td>71.1</td>\n",
              "      <td>65</td>\n",
              "      <td>4.22</td>\n",
              "      <td>1.835</td>\n",
              "      <td>19.90</td>\n",
              "      <td>Flat</td>\n",
              "      <td>Manual</td>\n",
              "      <td>4</td>\n",
              "      <td>1</td>\n",
              "      <td>hard</td>\n",
              "    </tr>\n",
              "    <tr>\n",
              "      <th>20</th>\n",
              "      <td>Toyota Corona</td>\n",
              "      <td>21.5</td>\n",
              "      <td>4</td>\n",
              "      <td>120.1</td>\n",
              "      <td>97</td>\n",
              "      <td>3.70</td>\n",
              "      <td>2.465</td>\n",
              "      <td>20.01</td>\n",
              "      <td>Flat</td>\n",
              "      <td>Automatic</td>\n",
              "      <td>3</td>\n",
              "      <td>1</td>\n",
              "      <td>medium</td>\n",
              "    </tr>\n",
              "    <tr>\n",
              "      <th>21</th>\n",
              "      <td>Dodge Challenger</td>\n",
              "      <td>15.5</td>\n",
              "      <td>8</td>\n",
              "      <td>318.0</td>\n",
              "      <td>150</td>\n",
              "      <td>2.76</td>\n",
              "      <td>3.520</td>\n",
              "      <td>16.87</td>\n",
              "      <td>V-shape</td>\n",
              "      <td>Automatic</td>\n",
              "      <td>3</td>\n",
              "      <td>2</td>\n",
              "      <td>low</td>\n",
              "    </tr>\n",
              "    <tr>\n",
              "      <th>22</th>\n",
              "      <td>AMC Javelin</td>\n",
              "      <td>15.2</td>\n",
              "      <td>8</td>\n",
              "      <td>304.0</td>\n",
              "      <td>150</td>\n",
              "      <td>3.15</td>\n",
              "      <td>3.435</td>\n",
              "      <td>17.30</td>\n",
              "      <td>V-shape</td>\n",
              "      <td>Automatic</td>\n",
              "      <td>3</td>\n",
              "      <td>2</td>\n",
              "      <td>low</td>\n",
              "    </tr>\n",
              "    <tr>\n",
              "      <th>23</th>\n",
              "      <td>Camaro Z28</td>\n",
              "      <td>13.3</td>\n",
              "      <td>8</td>\n",
              "      <td>350.0</td>\n",
              "      <td>245</td>\n",
              "      <td>3.73</td>\n",
              "      <td>3.840</td>\n",
              "      <td>15.41</td>\n",
              "      <td>V-shape</td>\n",
              "      <td>Automatic</td>\n",
              "      <td>3</td>\n",
              "      <td>4</td>\n",
              "      <td>low</td>\n",
              "    </tr>\n",
              "    <tr>\n",
              "      <th>24</th>\n",
              "      <td>Pontiac Firebird</td>\n",
              "      <td>19.2</td>\n",
              "      <td>8</td>\n",
              "      <td>400.0</td>\n",
              "      <td>175</td>\n",
              "      <td>3.08</td>\n",
              "      <td>3.845</td>\n",
              "      <td>17.05</td>\n",
              "      <td>V-shape</td>\n",
              "      <td>Automatic</td>\n",
              "      <td>3</td>\n",
              "      <td>2</td>\n",
              "      <td>low</td>\n",
              "    </tr>\n",
              "    <tr>\n",
              "      <th>25</th>\n",
              "      <td>Fiat X1-9</td>\n",
              "      <td>27.3</td>\n",
              "      <td>4</td>\n",
              "      <td>79.0</td>\n",
              "      <td>66</td>\n",
              "      <td>4.08</td>\n",
              "      <td>1.935</td>\n",
              "      <td>18.90</td>\n",
              "      <td>Flat</td>\n",
              "      <td>Manual</td>\n",
              "      <td>4</td>\n",
              "      <td>1</td>\n",
              "      <td>medium</td>\n",
              "    </tr>\n",
              "    <tr>\n",
              "      <th>26</th>\n",
              "      <td>Porsche 914-2</td>\n",
              "      <td>26.0</td>\n",
              "      <td>4</td>\n",
              "      <td>120.3</td>\n",
              "      <td>91</td>\n",
              "      <td>4.43</td>\n",
              "      <td>2.140</td>\n",
              "      <td>16.70</td>\n",
              "      <td>V-shape</td>\n",
              "      <td>Manual</td>\n",
              "      <td>5</td>\n",
              "      <td>2</td>\n",
              "      <td>medium</td>\n",
              "    </tr>\n",
              "    <tr>\n",
              "      <th>27</th>\n",
              "      <td>Lotus Europa</td>\n",
              "      <td>30.4</td>\n",
              "      <td>4</td>\n",
              "      <td>95.1</td>\n",
              "      <td>113</td>\n",
              "      <td>3.77</td>\n",
              "      <td>1.513</td>\n",
              "      <td>16.90</td>\n",
              "      <td>Flat</td>\n",
              "      <td>Manual</td>\n",
              "      <td>5</td>\n",
              "      <td>2</td>\n",
              "      <td>hard</td>\n",
              "    </tr>\n",
              "    <tr>\n",
              "      <th>28</th>\n",
              "      <td>Ford Pantera L</td>\n",
              "      <td>15.8</td>\n",
              "      <td>8</td>\n",
              "      <td>351.0</td>\n",
              "      <td>264</td>\n",
              "      <td>4.22</td>\n",
              "      <td>3.170</td>\n",
              "      <td>14.50</td>\n",
              "      <td>V-shape</td>\n",
              "      <td>Manual</td>\n",
              "      <td>5</td>\n",
              "      <td>4</td>\n",
              "      <td>low</td>\n",
              "    </tr>\n",
              "    <tr>\n",
              "      <th>29</th>\n",
              "      <td>Ferrari Dino</td>\n",
              "      <td>19.7</td>\n",
              "      <td>6</td>\n",
              "      <td>145.0</td>\n",
              "      <td>175</td>\n",
              "      <td>3.62</td>\n",
              "      <td>2.770</td>\n",
              "      <td>15.50</td>\n",
              "      <td>V-shape</td>\n",
              "      <td>Manual</td>\n",
              "      <td>5</td>\n",
              "      <td>6</td>\n",
              "      <td>low</td>\n",
              "    </tr>\n",
              "    <tr>\n",
              "      <th>30</th>\n",
              "      <td>Maserati Bora</td>\n",
              "      <td>15.0</td>\n",
              "      <td>8</td>\n",
              "      <td>301.0</td>\n",
              "      <td>335</td>\n",
              "      <td>3.54</td>\n",
              "      <td>3.570</td>\n",
              "      <td>14.60</td>\n",
              "      <td>V-shape</td>\n",
              "      <td>Manual</td>\n",
              "      <td>5</td>\n",
              "      <td>8</td>\n",
              "      <td>low</td>\n",
              "    </tr>\n",
              "    <tr>\n",
              "      <th>31</th>\n",
              "      <td>Volvo 142E</td>\n",
              "      <td>21.4</td>\n",
              "      <td>4</td>\n",
              "      <td>121.0</td>\n",
              "      <td>109</td>\n",
              "      <td>4.11</td>\n",
              "      <td>2.780</td>\n",
              "      <td>18.60</td>\n",
              "      <td>Flat</td>\n",
              "      <td>Manual</td>\n",
              "      <td>4</td>\n",
              "      <td>2</td>\n",
              "      <td>medium</td>\n",
              "    </tr>\n",
              "  </tbody>\n",
              "</table>\n",
              "</div>"
            ],
            "text/plain": [
              "                   Cars   mpg  cyl   disp  ...         am  gear  carb  mpg_level\n",
              "0             Mazda RX4  21.0    6  160.0  ...     Manual     4     4     medium\n",
              "1         Mazda RX4 Wag  21.0    6  160.0  ...     Manual     4     4     medium\n",
              "2            Datsun 710  22.8    4  108.0  ...     Manual     4     1     medium\n",
              "3        Hornet 4 Drive  21.4    6  258.0  ...  Automatic     3     1     medium\n",
              "4     Hornet Sportabout  18.7    8  360.0  ...  Automatic     3     2        low\n",
              "5               Valiant  18.1    6  225.0  ...  Automatic     3     1        low\n",
              "6            Duster 360  14.3    8  360.0  ...  Automatic     3     4        low\n",
              "7             Merc 240D  24.4    4  146.7  ...  Automatic     4     2     medium\n",
              "8              Merc 230  22.8    4  140.8  ...  Automatic     4     2     medium\n",
              "9              Merc 280  19.2    6  167.6  ...  Automatic     4     4        low\n",
              "10            Merc 280C  17.8    6  167.6  ...  Automatic     4     4        low\n",
              "11           Merc 450SE  16.4    8  275.8  ...  Automatic     3     3        low\n",
              "12           Merc 450SL  17.3    8  275.8  ...  Automatic     3     3        low\n",
              "13          Merc 450SLC  15.2    8  275.8  ...  Automatic     3     3        low\n",
              "14   Cadillac Fleetwood  10.4    8  472.0  ...  Automatic     3     4        low\n",
              "15  Lincoln Continental  10.4    8  460.0  ...  Automatic     3     4        low\n",
              "16    Chrysler Imperial  14.7    8  440.0  ...  Automatic     3     4        low\n",
              "17             Fiat 128  32.4    4   78.7  ...     Manual     4     1       hard\n",
              "18          Honda Civic  30.4    4   75.7  ...     Manual     4     2       hard\n",
              "19       Toyota Corolla  33.9    4   71.1  ...     Manual     4     1       hard\n",
              "20        Toyota Corona  21.5    4  120.1  ...  Automatic     3     1     medium\n",
              "21     Dodge Challenger  15.5    8  318.0  ...  Automatic     3     2        low\n",
              "22          AMC Javelin  15.2    8  304.0  ...  Automatic     3     2        low\n",
              "23           Camaro Z28  13.3    8  350.0  ...  Automatic     3     4        low\n",
              "24     Pontiac Firebird  19.2    8  400.0  ...  Automatic     3     2        low\n",
              "25            Fiat X1-9  27.3    4   79.0  ...     Manual     4     1     medium\n",
              "26        Porsche 914-2  26.0    4  120.3  ...     Manual     5     2     medium\n",
              "27         Lotus Europa  30.4    4   95.1  ...     Manual     5     2       hard\n",
              "28       Ford Pantera L  15.8    8  351.0  ...     Manual     5     4        low\n",
              "29         Ferrari Dino  19.7    6  145.0  ...     Manual     5     6        low\n",
              "30        Maserati Bora  15.0    8  301.0  ...     Manual     5     8        low\n",
              "31           Volvo 142E  21.4    4  121.0  ...     Manual     4     2     medium\n",
              "\n",
              "[32 rows x 13 columns]"
            ]
          },
          "metadata": {
            "tags": []
          },
          "execution_count": 186
        }
      ]
    },
    {
      "cell_type": "markdown",
      "metadata": {
        "id": "nZJOlAi4Q6Id",
        "colab_type": "text"
      },
      "source": [
        "#**Car Efficiency**\n"
      ]
    },
    {
      "cell_type": "markdown",
      "metadata": {
        "id": "QgV6gh24OQq3",
        "colab_type": "text"
      },
      "source": [
        "##The Most Fuel-Efficient Car in General"
      ]
    },
    {
      "cell_type": "code",
      "metadata": {
        "id": "rr032z4ERAEV",
        "colab_type": "code",
        "cellView": "both",
        "colab": {
          "base_uri": "https://localhost:8080/",
          "height": 513
        },
        "outputId": "95697ad1-0d15-4242-dd9e-0ff2e97bdd98"
      },
      "source": [
        "#@title\n",
        "mec=df.sort_values('mpg',ascending=False)[['Cars','mpg']].head(10).reset_index(drop=True)\n",
        "fig,ax=plt.subplots(figsize=(16,8))\n",
        "sns.barplot(x='mpg', y='Cars', data=mec, palette='viridis').set(title='The Most Fuel-Efficient Cars in General')\n",
        "\n",
        "y = []\n",
        "for p in ax.patches:\n",
        "    y.append(p.get_y())\n",
        "\n",
        "for i in range(0, mec.shape[0]):\n",
        "    plt.text(mec.loc[i,'mpg']+0.1, y[i]+0.4, str(mec.loc[i,'mpg']))"
      ],
      "execution_count": 219,
      "outputs": [
        {
          "output_type": "display_data",
          "data": {
            "image/png": "[encoded data removed]",
            "text/plain": [
              "<Figure size 1152x576 with 1 Axes>"
            ]
          },
          "metadata": {
            "tags": [],
            "needs_background": "light"
          }
        }
      ]
    },
    {
      "cell_type": "markdown",
      "metadata": {
        "id": "bk4N7NXmoAZb",
        "colab_type": "text"
      },
      "source": [
        "Generally, the most fuel-efficient car is **Toyota Corolla** with the highest MPG : **33.9 miles/US gallon**."
      ]
    },
    {
      "cell_type": "markdown",
      "metadata": {
        "id": "ZiJMPjlbxl0c",
        "colab_type": "text"
      },
      "source": [
        "## Car Efficiency by Cylinder"
      ]
    },
    {
      "cell_type": "code",
      "metadata": {
        "id": "nHwz__5EqEal",
        "colab_type": "code",
        "colab": {
          "base_uri": "https://localhost:8080/",
          "height": 513
        },
        "outputId": "f6cd042b-4ae0-4bba-898d-1c7d8afdbaaa"
      },
      "source": [
        "fig,ax=plt.subplots(figsize=(16,8))\n",
        "\n",
        "ax = sns.barplot(x = df.cyl.value_counts().index, y = df.cyl.value_counts().values).set(title='Cylinder Trend Car Manufacturer Produced', xlabel='Cylinders', ylabel='Counts')"
      ],
      "execution_count": null,
      "outputs": [
        {
          "output_type": "display_data",
          "data": {
            "image/png": "[encoded data removed]",
            "text/plain": [
              "<Figure size 1152x576 with 1 Axes>"
            ]
          },
          "metadata": {
            "tags": [],
            "needs_background": "light"
          }
        }
      ]
    },
    {
      "cell_type": "markdown",
      "metadata": {
        "id": "VFeoAqRprxlB",
        "colab_type": "text"
      },
      "source": [
        "Looks like car manufacturer in this period of time like to produce **8** and **4 cylinder cars**. Since cylinder has a big negative correlation with mpg, so I'll analyze the mpg per cylinder class."
      ]
    },
    {
      "cell_type": "code",
      "metadata": {
        "id": "c16HG7wUqEmn",
        "colab_type": "code",
        "colab": {}
      },
      "source": [
        "c4 = df[df.cyl==4].reset_index(drop=True)\n",
        "c6 = df[df.cyl==6].reset_index(drop=True)\n",
        "c8 = df[df.cyl==8].reset_index(drop=True)"
      ],
      "execution_count": null,
      "outputs": []
    },
    {
      "cell_type": "markdown",
      "metadata": {
        "id": "eFllTcjSulX_",
        "colab_type": "text"
      },
      "source": [
        "## 4 Cylinder Class"
      ]
    },
    {
      "cell_type": "code",
      "metadata": {
        "id": "cuVdXUxEsYCK",
        "colab_type": "code",
        "colab": {
          "base_uri": "https://localhost:8080/",
          "height": 377
        },
        "outputId": "c8d068b8-aa21-43ca-bd83-b28abda461ca"
      },
      "source": [
        "c4"
      ],
      "execution_count": null,
      "outputs": [
        {
          "output_type": "execute_result",
          "data": {
            "text/html": [
              "<div>\n",
              "<style scoped>\n",
              "    .dataframe tbody tr th:only-of-type {\n",
              "        vertical-align: middle;\n",
              "    }\n",
              "\n",
              "    .dataframe tbody tr th {\n",
              "        vertical-align: top;\n",
              "    }\n",
              "\n",
              "    .dataframe thead th {\n",
              "        text-align: right;\n",
              "    }\n",
              "</style>\n",
              "<table border=\"1\" class=\"dataframe\">\n",
              "  <thead>\n",
              "    <tr style=\"text-align: right;\">\n",
              "      <th></th>\n",
              "      <th>Cars</th>\n",
              "      <th>mpg</th>\n",
              "      <th>cyl</th>\n",
              "      <th>disp</th>\n",
              "      <th>hp</th>\n",
              "      <th>drat</th>\n",
              "      <th>wt</th>\n",
              "      <th>qsec</th>\n",
              "      <th>vs</th>\n",
              "      <th>am</th>\n",
              "      <th>gear</th>\n",
              "      <th>carb</th>\n",
              "      <th>mpg_level</th>\n",
              "    </tr>\n",
              "  </thead>\n",
              "  <tbody>\n",
              "    <tr>\n",
              "      <th>0</th>\n",
              "      <td>Datsun 710</td>\n",
              "      <td>22.8</td>\n",
              "      <td>4</td>\n",
              "      <td>108.0</td>\n",
              "      <td>93</td>\n",
              "      <td>3.85</td>\n",
              "      <td>2.320</td>\n",
              "      <td>18.61</td>\n",
              "      <td>Flat</td>\n",
              "      <td>Manual</td>\n",
              "      <td>4</td>\n",
              "      <td>1</td>\n",
              "      <td>medium</td>\n",
              "    </tr>\n",
              "    <tr>\n",
              "      <th>1</th>\n",
              "      <td>Merc 240D</td>\n",
              "      <td>24.4</td>\n",
              "      <td>4</td>\n",
              "      <td>146.7</td>\n",
              "      <td>62</td>\n",
              "      <td>3.69</td>\n",
              "      <td>3.190</td>\n",
              "      <td>20.00</td>\n",
              "      <td>Flat</td>\n",
              "      <td>Automatic</td>\n",
              "      <td>4</td>\n",
              "      <td>2</td>\n",
              "      <td>medium</td>\n",
              "    </tr>\n",
              "    <tr>\n",
              "      <th>2</th>\n",
              "      <td>Merc 230</td>\n",
              "      <td>22.8</td>\n",
              "      <td>4</td>\n",
              "      <td>140.8</td>\n",
              "      <td>95</td>\n",
              "      <td>3.92</td>\n",
              "      <td>3.150</td>\n",
              "      <td>22.90</td>\n",
              "      <td>Flat</td>\n",
              "      <td>Automatic</td>\n",
              "      <td>4</td>\n",
              "      <td>2</td>\n",
              "      <td>medium</td>\n",
              "    </tr>\n",
              "    <tr>\n",
              "      <th>3</th>\n",
              "      <td>Fiat 128</td>\n",
              "      <td>32.4</td>\n",
              "      <td>4</td>\n",
              "      <td>78.7</td>\n",
              "      <td>66</td>\n",
              "      <td>4.08</td>\n",
              "      <td>2.200</td>\n",
              "      <td>19.47</td>\n",
              "      <td>Flat</td>\n",
              "      <td>Manual</td>\n",
              "      <td>4</td>\n",
              "      <td>1</td>\n",
              "      <td>hard</td>\n",
              "    </tr>\n",
              "    <tr>\n",
              "      <th>4</th>\n",
              "      <td>Honda Civic</td>\n",
              "      <td>30.4</td>\n",
              "      <td>4</td>\n",
              "      <td>75.7</td>\n",
              "      <td>52</td>\n",
              "      <td>4.93</td>\n",
              "      <td>1.615</td>\n",
              "      <td>18.52</td>\n",
              "      <td>Flat</td>\n",
              "      <td>Manual</td>\n",
              "      <td>4</td>\n",
              "      <td>2</td>\n",
              "      <td>hard</td>\n",
              "    </tr>\n",
              "    <tr>\n",
              "      <th>5</th>\n",
              "      <td>Toyota Corolla</td>\n",
              "      <td>33.9</td>\n",
              "      <td>4</td>\n",
              "      <td>71.1</td>\n",
              "      <td>65</td>\n",
              "      <td>4.22</td>\n",
              "      <td>1.835</td>\n",
              "      <td>19.90</td>\n",
              "      <td>Flat</td>\n",
              "      <td>Manual</td>\n",
              "      <td>4</td>\n",
              "      <td>1</td>\n",
              "      <td>hard</td>\n",
              "    </tr>\n",
              "    <tr>\n",
              "      <th>6</th>\n",
              "      <td>Toyota Corona</td>\n",
              "      <td>21.5</td>\n",
              "      <td>4</td>\n",
              "      <td>120.1</td>\n",
              "      <td>97</td>\n",
              "      <td>3.70</td>\n",
              "      <td>2.465</td>\n",
              "      <td>20.01</td>\n",
              "      <td>Flat</td>\n",
              "      <td>Automatic</td>\n",
              "      <td>3</td>\n",
              "      <td>1</td>\n",
              "      <td>medium</td>\n",
              "    </tr>\n",
              "    <tr>\n",
              "      <th>7</th>\n",
              "      <td>Fiat X1-9</td>\n",
              "      <td>27.3</td>\n",
              "      <td>4</td>\n",
              "      <td>79.0</td>\n",
              "      <td>66</td>\n",
              "      <td>4.08</td>\n",
              "      <td>1.935</td>\n",
              "      <td>18.90</td>\n",
              "      <td>Flat</td>\n",
              "      <td>Manual</td>\n",
              "      <td>4</td>\n",
              "      <td>1</td>\n",
              "      <td>medium</td>\n",
              "    </tr>\n",
              "    <tr>\n",
              "      <th>8</th>\n",
              "      <td>Porsche 914-2</td>\n",
              "      <td>26.0</td>\n",
              "      <td>4</td>\n",
              "      <td>120.3</td>\n",
              "      <td>91</td>\n",
              "      <td>4.43</td>\n",
              "      <td>2.140</td>\n",
              "      <td>16.70</td>\n",
              "      <td>V-shape</td>\n",
              "      <td>Manual</td>\n",
              "      <td>5</td>\n",
              "      <td>2</td>\n",
              "      <td>medium</td>\n",
              "    </tr>\n",
              "    <tr>\n",
              "      <th>9</th>\n",
              "      <td>Lotus Europa</td>\n",
              "      <td>30.4</td>\n",
              "      <td>4</td>\n",
              "      <td>95.1</td>\n",
              "      <td>113</td>\n",
              "      <td>3.77</td>\n",
              "      <td>1.513</td>\n",
              "      <td>16.90</td>\n",
              "      <td>Flat</td>\n",
              "      <td>Manual</td>\n",
              "      <td>5</td>\n",
              "      <td>2</td>\n",
              "      <td>hard</td>\n",
              "    </tr>\n",
              "    <tr>\n",
              "      <th>10</th>\n",
              "      <td>Volvo 142E</td>\n",
              "      <td>21.4</td>\n",
              "      <td>4</td>\n",
              "      <td>121.0</td>\n",
              "      <td>109</td>\n",
              "      <td>4.11</td>\n",
              "      <td>2.780</td>\n",
              "      <td>18.60</td>\n",
              "      <td>Flat</td>\n",
              "      <td>Manual</td>\n",
              "      <td>4</td>\n",
              "      <td>2</td>\n",
              "      <td>medium</td>\n",
              "    </tr>\n",
              "  </tbody>\n",
              "</table>\n",
              "</div>"
            ],
            "text/plain": [
              "              Cars   mpg  cyl   disp  ...         am  gear  carb  mpg_level\n",
              "0       Datsun 710  22.8    4  108.0  ...     Manual     4     1     medium\n",
              "1        Merc 240D  24.4    4  146.7  ...  Automatic     4     2     medium\n",
              "2         Merc 230  22.8    4  140.8  ...  Automatic     4     2     medium\n",
              "3         Fiat 128  32.4    4   78.7  ...     Manual     4     1       hard\n",
              "4      Honda Civic  30.4    4   75.7  ...     Manual     4     2       hard\n",
              "5   Toyota Corolla  33.9    4   71.1  ...     Manual     4     1       hard\n",
              "6    Toyota Corona  21.5    4  120.1  ...  Automatic     3     1     medium\n",
              "7        Fiat X1-9  27.3    4   79.0  ...     Manual     4     1     medium\n",
              "8    Porsche 914-2  26.0    4  120.3  ...     Manual     5     2     medium\n",
              "9     Lotus Europa  30.4    4   95.1  ...     Manual     5     2       hard\n",
              "10      Volvo 142E  21.4    4  121.0  ...     Manual     4     2     medium\n",
              "\n",
              "[11 rows x 13 columns]"
            ]
          },
          "metadata": {
            "tags": []
          },
          "execution_count": 191
        }
      ]
    },
    {
      "cell_type": "code",
      "metadata": {
        "id": "PJmkmFlgsYM9",
        "colab_type": "code",
        "colab": {
          "base_uri": "https://localhost:8080/",
          "height": 513
        },
        "outputId": "b62fa0e6-aa3c-4c47-a941-e6280eb0388b"
      },
      "source": [
        "fig,ax=plt.subplots(figsize=(16,8))\n",
        "\n",
        "ax = sns.scatterplot(x='mpg', y='hp', data=c4, palette='Reds_r').set(title='Average mpg is {:2.0f} and horsepower is {:3.0f} for 4 Cylinders Cars'.format(c4.mpg.mean(),c4.hp.mean()))\n",
        "for i in range(0,c4.shape[0]):\n",
        "  ax = plt.text(c4.loc[i,'mpg']-0.1, c4.loc[i,'hp']+1, c4.loc[i,'Cars'])"
      ],
      "execution_count": null,
      "outputs": [
        {
          "output_type": "display_data",
          "data": {
            "image/png": "[encoded data removed]",
            "text/plain": [
              "<Figure size 1152x576 with 1 Axes>"
            ]
          },
          "metadata": {
            "tags": [],
            "needs_background": "light"
          }
        }
      ]
    },
    {
      "cell_type": "markdown",
      "metadata": {
        "id": "7tHXw0fHtzRZ",
        "colab_type": "text"
      },
      "source": [
        "For 4 cylinders cars, **Toyota Corolla** has the highest mpg, but **Lotus Europe** is the best deal for this class since it has high mpg but also highest horsepower which make this the fastest in this class."
      ]
    },
    {
      "cell_type": "markdown",
      "metadata": {
        "id": "pim9CSK5usuL",
        "colab_type": "text"
      },
      "source": [
        "## 6 Class Cylinder"
      ]
    },
    {
      "cell_type": "code",
      "metadata": {
        "id": "p62sQPQiuvDg",
        "colab_type": "code",
        "colab": {
          "base_uri": "https://localhost:8080/",
          "height": 257
        },
        "outputId": "b5205159-a117-4476-ed6e-bfe1e95bb1f2"
      },
      "source": [
        "c6"
      ],
      "execution_count": null,
      "outputs": [
        {
          "output_type": "execute_result",
          "data": {
            "text/html": [
              "<div>\n",
              "<style scoped>\n",
              "    .dataframe tbody tr th:only-of-type {\n",
              "        vertical-align: middle;\n",
              "    }\n",
              "\n",
              "    .dataframe tbody tr th {\n",
              "        vertical-align: top;\n",
              "    }\n",
              "\n",
              "    .dataframe thead th {\n",
              "        text-align: right;\n",
              "    }\n",
              "</style>\n",
              "<table border=\"1\" class=\"dataframe\">\n",
              "  <thead>\n",
              "    <tr style=\"text-align: right;\">\n",
              "      <th></th>\n",
              "      <th>Cars</th>\n",
              "      <th>mpg</th>\n",
              "      <th>cyl</th>\n",
              "      <th>disp</th>\n",
              "      <th>hp</th>\n",
              "      <th>drat</th>\n",
              "      <th>wt</th>\n",
              "      <th>qsec</th>\n",
              "      <th>vs</th>\n",
              "      <th>am</th>\n",
              "      <th>gear</th>\n",
              "      <th>carb</th>\n",
              "      <th>mpg_level</th>\n",
              "    </tr>\n",
              "  </thead>\n",
              "  <tbody>\n",
              "    <tr>\n",
              "      <th>0</th>\n",
              "      <td>Mazda RX4</td>\n",
              "      <td>21.0</td>\n",
              "      <td>6</td>\n",
              "      <td>160.0</td>\n",
              "      <td>110</td>\n",
              "      <td>3.90</td>\n",
              "      <td>2.620</td>\n",
              "      <td>16.46</td>\n",
              "      <td>V-shape</td>\n",
              "      <td>Manual</td>\n",
              "      <td>4</td>\n",
              "      <td>4</td>\n",
              "      <td>medium</td>\n",
              "    </tr>\n",
              "    <tr>\n",
              "      <th>1</th>\n",
              "      <td>Mazda RX4 Wag</td>\n",
              "      <td>21.0</td>\n",
              "      <td>6</td>\n",
              "      <td>160.0</td>\n",
              "      <td>110</td>\n",
              "      <td>3.90</td>\n",
              "      <td>2.875</td>\n",
              "      <td>17.02</td>\n",
              "      <td>V-shape</td>\n",
              "      <td>Manual</td>\n",
              "      <td>4</td>\n",
              "      <td>4</td>\n",
              "      <td>medium</td>\n",
              "    </tr>\n",
              "    <tr>\n",
              "      <th>2</th>\n",
              "      <td>Hornet 4 Drive</td>\n",
              "      <td>21.4</td>\n",
              "      <td>6</td>\n",
              "      <td>258.0</td>\n",
              "      <td>110</td>\n",
              "      <td>3.08</td>\n",
              "      <td>3.215</td>\n",
              "      <td>19.44</td>\n",
              "      <td>Flat</td>\n",
              "      <td>Automatic</td>\n",
              "      <td>3</td>\n",
              "      <td>1</td>\n",
              "      <td>medium</td>\n",
              "    </tr>\n",
              "    <tr>\n",
              "      <th>3</th>\n",
              "      <td>Valiant</td>\n",
              "      <td>18.1</td>\n",
              "      <td>6</td>\n",
              "      <td>225.0</td>\n",
              "      <td>105</td>\n",
              "      <td>2.76</td>\n",
              "      <td>3.460</td>\n",
              "      <td>20.22</td>\n",
              "      <td>Flat</td>\n",
              "      <td>Automatic</td>\n",
              "      <td>3</td>\n",
              "      <td>1</td>\n",
              "      <td>low</td>\n",
              "    </tr>\n",
              "    <tr>\n",
              "      <th>4</th>\n",
              "      <td>Merc 280</td>\n",
              "      <td>19.2</td>\n",
              "      <td>6</td>\n",
              "      <td>167.6</td>\n",
              "      <td>123</td>\n",
              "      <td>3.92</td>\n",
              "      <td>3.440</td>\n",
              "      <td>18.30</td>\n",
              "      <td>Flat</td>\n",
              "      <td>Automatic</td>\n",
              "      <td>4</td>\n",
              "      <td>4</td>\n",
              "      <td>low</td>\n",
              "    </tr>\n",
              "    <tr>\n",
              "      <th>5</th>\n",
              "      <td>Merc 280C</td>\n",
              "      <td>17.8</td>\n",
              "      <td>6</td>\n",
              "      <td>167.6</td>\n",
              "      <td>123</td>\n",
              "      <td>3.92</td>\n",
              "      <td>3.440</td>\n",
              "      <td>18.90</td>\n",
              "      <td>Flat</td>\n",
              "      <td>Automatic</td>\n",
              "      <td>4</td>\n",
              "      <td>4</td>\n",
              "      <td>low</td>\n",
              "    </tr>\n",
              "    <tr>\n",
              "      <th>6</th>\n",
              "      <td>Ferrari Dino</td>\n",
              "      <td>19.7</td>\n",
              "      <td>6</td>\n",
              "      <td>145.0</td>\n",
              "      <td>175</td>\n",
              "      <td>3.62</td>\n",
              "      <td>2.770</td>\n",
              "      <td>15.50</td>\n",
              "      <td>V-shape</td>\n",
              "      <td>Manual</td>\n",
              "      <td>5</td>\n",
              "      <td>6</td>\n",
              "      <td>low</td>\n",
              "    </tr>\n",
              "  </tbody>\n",
              "</table>\n",
              "</div>"
            ],
            "text/plain": [
              "             Cars   mpg  cyl   disp  ...         am  gear  carb  mpg_level\n",
              "0       Mazda RX4  21.0    6  160.0  ...     Manual     4     4     medium\n",
              "1   Mazda RX4 Wag  21.0    6  160.0  ...     Manual     4     4     medium\n",
              "2  Hornet 4 Drive  21.4    6  258.0  ...  Automatic     3     1     medium\n",
              "3         Valiant  18.1    6  225.0  ...  Automatic     3     1        low\n",
              "4        Merc 280  19.2    6  167.6  ...  Automatic     4     4        low\n",
              "5       Merc 280C  17.8    6  167.6  ...  Automatic     4     4        low\n",
              "6    Ferrari Dino  19.7    6  145.0  ...     Manual     5     6        low\n",
              "\n",
              "[7 rows x 13 columns]"
            ]
          },
          "metadata": {
            "tags": []
          },
          "execution_count": 193
        }
      ]
    },
    {
      "cell_type": "code",
      "metadata": {
        "id": "4FSf63Wauu_h",
        "colab_type": "code",
        "colab": {
          "base_uri": "https://localhost:8080/",
          "height": 513
        },
        "outputId": "e2b3dc0f-6374-4290-ffa5-92f073047866"
      },
      "source": [
        "fig,ax=plt.subplots(figsize=(16,8))\n",
        "\n",
        "ax = sns.scatterplot(x='mpg', y='hp', data=c6, palette='Reds_r').set(title='Average mpg is {:2.0f} and horsepower is {:3.0f} for 6 Cylinders Cars'.format(c6.mpg.mean(),c6.hp.mean()))\n",
        "for i in range(0,c6.shape[0]):\n",
        "  ax = plt.text(c6.loc[i,'mpg']-0.1, c6.loc[i,'hp']+1, c6.loc[i,'Cars'])"
      ],
      "execution_count": null,
      "outputs": [
        {
          "output_type": "display_data",
          "data": {
            "image/png": "[encoded data removed]",
            "text/plain": [
              "<Figure size 1152x576 with 1 Axes>"
            ]
          },
          "metadata": {
            "tags": [],
            "needs_background": "light"
          }
        }
      ]
    },
    {
      "cell_type": "markdown",
      "metadata": {
        "id": "rxXLgheavMVd",
        "colab_type": "text"
      },
      "source": [
        "For 6 cylinders cars, **Hornet 4 Drive** has the highest mpg, but **Ferrari Dino** is the best deal for this class since it has high mpg but also highest horsepower which make this the fastest in this class."
      ]
    },
    {
      "cell_type": "markdown",
      "metadata": {
        "id": "AVcOu0kPvhFK",
        "colab_type": "text"
      },
      "source": [
        "## 8 Cylinders Class"
      ]
    },
    {
      "cell_type": "code",
      "metadata": {
        "id": "0T9bPzm5uu6n",
        "colab_type": "code",
        "colab": {
          "base_uri": "https://localhost:8080/",
          "height": 467
        },
        "outputId": "dbf83841-8db2-4a58-cc72-bf10cefa8dbb"
      },
      "source": [
        "c8"
      ],
      "execution_count": null,
      "outputs": [
        {
          "output_type": "execute_result",
          "data": {
            "text/html": [
              "<div>\n",
              "<style scoped>\n",
              "    .dataframe tbody tr th:only-of-type {\n",
              "        vertical-align: middle;\n",
              "    }\n",
              "\n",
              "    .dataframe tbody tr th {\n",
              "        vertical-align: top;\n",
              "    }\n",
              "\n",
              "    .dataframe thead th {\n",
              "        text-align: right;\n",
              "    }\n",
              "</style>\n",
              "<table border=\"1\" class=\"dataframe\">\n",
              "  <thead>\n",
              "    <tr style=\"text-align: right;\">\n",
              "      <th></th>\n",
              "      <th>Cars</th>\n",
              "      <th>mpg</th>\n",
              "      <th>cyl</th>\n",
              "      <th>disp</th>\n",
              "      <th>hp</th>\n",
              "      <th>drat</th>\n",
              "      <th>wt</th>\n",
              "      <th>qsec</th>\n",
              "      <th>vs</th>\n",
              "      <th>am</th>\n",
              "      <th>gear</th>\n",
              "      <th>carb</th>\n",
              "      <th>mpg_level</th>\n",
              "    </tr>\n",
              "  </thead>\n",
              "  <tbody>\n",
              "    <tr>\n",
              "      <th>0</th>\n",
              "      <td>Hornet Sportabout</td>\n",
              "      <td>18.7</td>\n",
              "      <td>8</td>\n",
              "      <td>360.0</td>\n",
              "      <td>175</td>\n",
              "      <td>3.15</td>\n",
              "      <td>3.440</td>\n",
              "      <td>17.02</td>\n",
              "      <td>V-shape</td>\n",
              "      <td>Automatic</td>\n",
              "      <td>3</td>\n",
              "      <td>2</td>\n",
              "      <td>low</td>\n",
              "    </tr>\n",
              "    <tr>\n",
              "      <th>1</th>\n",
              "      <td>Duster 360</td>\n",
              "      <td>14.3</td>\n",
              "      <td>8</td>\n",
              "      <td>360.0</td>\n",
              "      <td>245</td>\n",
              "      <td>3.21</td>\n",
              "      <td>3.570</td>\n",
              "      <td>15.84</td>\n",
              "      <td>V-shape</td>\n",
              "      <td>Automatic</td>\n",
              "      <td>3</td>\n",
              "      <td>4</td>\n",
              "      <td>low</td>\n",
              "    </tr>\n",
              "    <tr>\n",
              "      <th>2</th>\n",
              "      <td>Merc 450SE</td>\n",
              "      <td>16.4</td>\n",
              "      <td>8</td>\n",
              "      <td>275.8</td>\n",
              "      <td>180</td>\n",
              "      <td>3.07</td>\n",
              "      <td>4.070</td>\n",
              "      <td>17.40</td>\n",
              "      <td>V-shape</td>\n",
              "      <td>Automatic</td>\n",
              "      <td>3</td>\n",
              "      <td>3</td>\n",
              "      <td>low</td>\n",
              "    </tr>\n",
              "    <tr>\n",
              "      <th>3</th>\n",
              "      <td>Merc 450SL</td>\n",
              "      <td>17.3</td>\n",
              "      <td>8</td>\n",
              "      <td>275.8</td>\n",
              "      <td>180</td>\n",
              "      <td>3.07</td>\n",
              "      <td>3.730</td>\n",
              "      <td>17.60</td>\n",
              "      <td>V-shape</td>\n",
              "      <td>Automatic</td>\n",
              "      <td>3</td>\n",
              "      <td>3</td>\n",
              "      <td>low</td>\n",
              "    </tr>\n",
              "    <tr>\n",
              "      <th>4</th>\n",
              "      <td>Merc 450SLC</td>\n",
              "      <td>15.2</td>\n",
              "      <td>8</td>\n",
              "      <td>275.8</td>\n",
              "      <td>180</td>\n",
              "      <td>3.07</td>\n",
              "      <td>3.780</td>\n",
              "      <td>18.00</td>\n",
              "      <td>V-shape</td>\n",
              "      <td>Automatic</td>\n",
              "      <td>3</td>\n",
              "      <td>3</td>\n",
              "      <td>low</td>\n",
              "    </tr>\n",
              "    <tr>\n",
              "      <th>5</th>\n",
              "      <td>Cadillac Fleetwood</td>\n",
              "      <td>10.4</td>\n",
              "      <td>8</td>\n",
              "      <td>472.0</td>\n",
              "      <td>205</td>\n",
              "      <td>2.93</td>\n",
              "      <td>5.250</td>\n",
              "      <td>17.98</td>\n",
              "      <td>V-shape</td>\n",
              "      <td>Automatic</td>\n",
              "      <td>3</td>\n",
              "      <td>4</td>\n",
              "      <td>low</td>\n",
              "    </tr>\n",
              "    <tr>\n",
              "      <th>6</th>\n",
              "      <td>Lincoln Continental</td>\n",
              "      <td>10.4</td>\n",
              "      <td>8</td>\n",
              "      <td>460.0</td>\n",
              "      <td>215</td>\n",
              "      <td>3.00</td>\n",
              "      <td>5.424</td>\n",
              "      <td>17.82</td>\n",
              "      <td>V-shape</td>\n",
              "      <td>Automatic</td>\n",
              "      <td>3</td>\n",
              "      <td>4</td>\n",
              "      <td>low</td>\n",
              "    </tr>\n",
              "    <tr>\n",
              "      <th>7</th>\n",
              "      <td>Chrysler Imperial</td>\n",
              "      <td>14.7</td>\n",
              "      <td>8</td>\n",
              "      <td>440.0</td>\n",
              "      <td>230</td>\n",
              "      <td>3.23</td>\n",
              "      <td>5.345</td>\n",
              "      <td>17.42</td>\n",
              "      <td>V-shape</td>\n",
              "      <td>Automatic</td>\n",
              "      <td>3</td>\n",
              "      <td>4</td>\n",
              "      <td>low</td>\n",
              "    </tr>\n",
              "    <tr>\n",
              "      <th>8</th>\n",
              "      <td>Dodge Challenger</td>\n",
              "      <td>15.5</td>\n",
              "      <td>8</td>\n",
              "      <td>318.0</td>\n",
              "      <td>150</td>\n",
              "      <td>2.76</td>\n",
              "      <td>3.520</td>\n",
              "      <td>16.87</td>\n",
              "      <td>V-shape</td>\n",
              "      <td>Automatic</td>\n",
              "      <td>3</td>\n",
              "      <td>2</td>\n",
              "      <td>low</td>\n",
              "    </tr>\n",
              "    <tr>\n",
              "      <th>9</th>\n",
              "      <td>AMC Javelin</td>\n",
              "      <td>15.2</td>\n",
              "      <td>8</td>\n",
              "      <td>304.0</td>\n",
              "      <td>150</td>\n",
              "      <td>3.15</td>\n",
              "      <td>3.435</td>\n",
              "      <td>17.30</td>\n",
              "      <td>V-shape</td>\n",
              "      <td>Automatic</td>\n",
              "      <td>3</td>\n",
              "      <td>2</td>\n",
              "      <td>low</td>\n",
              "    </tr>\n",
              "    <tr>\n",
              "      <th>10</th>\n",
              "      <td>Camaro Z28</td>\n",
              "      <td>13.3</td>\n",
              "      <td>8</td>\n",
              "      <td>350.0</td>\n",
              "      <td>245</td>\n",
              "      <td>3.73</td>\n",
              "      <td>3.840</td>\n",
              "      <td>15.41</td>\n",
              "      <td>V-shape</td>\n",
              "      <td>Automatic</td>\n",
              "      <td>3</td>\n",
              "      <td>4</td>\n",
              "      <td>low</td>\n",
              "    </tr>\n",
              "    <tr>\n",
              "      <th>11</th>\n",
              "      <td>Pontiac Firebird</td>\n",
              "      <td>19.2</td>\n",
              "      <td>8</td>\n",
              "      <td>400.0</td>\n",
              "      <td>175</td>\n",
              "      <td>3.08</td>\n",
              "      <td>3.845</td>\n",
              "      <td>17.05</td>\n",
              "      <td>V-shape</td>\n",
              "      <td>Automatic</td>\n",
              "      <td>3</td>\n",
              "      <td>2</td>\n",
              "      <td>low</td>\n",
              "    </tr>\n",
              "    <tr>\n",
              "      <th>12</th>\n",
              "      <td>Ford Pantera L</td>\n",
              "      <td>15.8</td>\n",
              "      <td>8</td>\n",
              "      <td>351.0</td>\n",
              "      <td>264</td>\n",
              "      <td>4.22</td>\n",
              "      <td>3.170</td>\n",
              "      <td>14.50</td>\n",
              "      <td>V-shape</td>\n",
              "      <td>Manual</td>\n",
              "      <td>5</td>\n",
              "      <td>4</td>\n",
              "      <td>low</td>\n",
              "    </tr>\n",
              "    <tr>\n",
              "      <th>13</th>\n",
              "      <td>Maserati Bora</td>\n",
              "      <td>15.0</td>\n",
              "      <td>8</td>\n",
              "      <td>301.0</td>\n",
              "      <td>335</td>\n",
              "      <td>3.54</td>\n",
              "      <td>3.570</td>\n",
              "      <td>14.60</td>\n",
              "      <td>V-shape</td>\n",
              "      <td>Manual</td>\n",
              "      <td>5</td>\n",
              "      <td>8</td>\n",
              "      <td>low</td>\n",
              "    </tr>\n",
              "  </tbody>\n",
              "</table>\n",
              "</div>"
            ],
            "text/plain": [
              "                   Cars   mpg  cyl   disp  ...         am  gear  carb  mpg_level\n",
              "0     Hornet Sportabout  18.7    8  360.0  ...  Automatic     3     2        low\n",
              "1            Duster 360  14.3    8  360.0  ...  Automatic     3     4        low\n",
              "2            Merc 450SE  16.4    8  275.8  ...  Automatic     3     3        low\n",
              "3            Merc 450SL  17.3    8  275.8  ...  Automatic     3     3        low\n",
              "4           Merc 450SLC  15.2    8  275.8  ...  Automatic     3     3        low\n",
              "5    Cadillac Fleetwood  10.4    8  472.0  ...  Automatic     3     4        low\n",
              "6   Lincoln Continental  10.4    8  460.0  ...  Automatic     3     4        low\n",
              "7     Chrysler Imperial  14.7    8  440.0  ...  Automatic     3     4        low\n",
              "8      Dodge Challenger  15.5    8  318.0  ...  Automatic     3     2        low\n",
              "9           AMC Javelin  15.2    8  304.0  ...  Automatic     3     2        low\n",
              "10           Camaro Z28  13.3    8  350.0  ...  Automatic     3     4        low\n",
              "11     Pontiac Firebird  19.2    8  400.0  ...  Automatic     3     2        low\n",
              "12       Ford Pantera L  15.8    8  351.0  ...     Manual     5     4        low\n",
              "13        Maserati Bora  15.0    8  301.0  ...     Manual     5     8        low\n",
              "\n",
              "[14 rows x 13 columns]"
            ]
          },
          "metadata": {
            "tags": []
          },
          "execution_count": 195
        }
      ]
    },
    {
      "cell_type": "code",
      "metadata": {
        "id": "d_BI4mqouu2O",
        "colab_type": "code",
        "cellView": "both",
        "colab": {
          "base_uri": "https://localhost:8080/",
          "height": 513
        },
        "outputId": "b41a63a8-dcc5-437c-9a09-bbe7d7116d89"
      },
      "source": [
        "#@title\n",
        "fig,ax=plt.subplots(figsize=(16,8))\n",
        "\n",
        "ax = sns.scatterplot(x='mpg', y='hp', data=c8, palette='Reds_r').set(title='Average mpg is {:2.0f} and horsepower is {:3.0f} for 8 Cylinders Cars'.format(c8.mpg.mean(),c8.hp.mean()))\n",
        "for i in range(0,c8.shape[0]):\n",
        "  ax = plt.text(c8.loc[i,'mpg']-0.2, c8.loc[i,'hp']+4, c8.loc[i,'Cars'])"
      ],
      "execution_count": null,
      "outputs": [
        {
          "output_type": "display_data",
          "data": {
            "image/png": "[encoded data removed]",
            "text/plain": [
              "<Figure size 1152x576 with 1 Axes>"
            ]
          },
          "metadata": {
            "tags": [],
            "needs_background": "light"
          }
        }
      ]
    },
    {
      "cell_type": "markdown",
      "metadata": {
        "id": "xkXCwDpoxSup",
        "colab_type": "text"
      },
      "source": [
        "For 8 cylinders cars, **Pontiac Firebird** has the highest mpg, but **Maserati Bora** is the best deal for this class since it has high mpg but also highest horsepower which make this the fastest in this class."
      ]
    },
    {
      "cell_type": "markdown",
      "metadata": {
        "id": "-E0FO9K6xxTM",
        "colab_type": "text"
      },
      "source": [
        "# **\"Real Men Use Three Pedals\" They Say...**\n",
        "In this section, I compare the speed between manual and automatic transmission"
      ]
    },
    {
      "cell_type": "code",
      "metadata": {
        "id": "TD3R_QAQyX1w",
        "colab_type": "code",
        "colab": {
          "base_uri": "https://localhost:8080/",
          "height": 513
        },
        "outputId": "3a9a12ee-49c1-4a18-a0fe-c1fad51f7a54"
      },
      "source": [
        "fig,ax=plt.subplots(figsize=(16,8))\n",
        "ax = sns.boxplot(x='am', y ='qsec', data=df).set(title='Transmission vs Acceleration')"
      ],
      "execution_count": null,
      "outputs": [
        {
          "output_type": "display_data",
          "data": {
            "image/png": "[encoded data removed]",
            "text/plain": [
              "<Figure size 1152x576 with 1 Axes>"
            ]
          },
          "metadata": {
            "tags": [],
            "needs_background": "light"
          }
        }
      ]
    },
    {
      "cell_type": "markdown",
      "metadata": {
        "id": "xgvHwDMo2w0h",
        "colab_type": "text"
      },
      "source": [
        "Visually, Manual transmission cars are faster than automatic cars, but are they that different? I will test it with t-test two samples independent hypotesis test."
      ]
    },
    {
      "cell_type": "code",
      "metadata": {
        "id": "ein-fUFvz-oT",
        "colab_type": "code",
        "colab": {
          "base_uri": "https://localhost:8080/",
          "height": 50
        },
        "outputId": "6fb6d8bf-a83b-4708-e53b-4121d1ece309"
      },
      "source": [
        "#Separate 2 samples\n",
        "Manual = df[df.am=='Manual'][['qsec']].values.reshape(-1)\n",
        "Auto = df[df.am=='Automatic'][['qsec']].values.reshape(-1)\n",
        "\n",
        "#Import scipy\n",
        "from scipy.stats import ttest_ind\n",
        "\n",
        "t_stats , pval = ttest_ind(Manual,Auto)\n",
        "\n",
        "#H0: Average qsec for both type are equal\n",
        "#H1: Average qsec for both type are not-equal\n",
        "\n",
        "print('p-value {:1.2f} < alpha (0.5) which means H0 is rejected. The mean between two transmissions is not equal,\\nbut they are not significantly different because the t-stats value is only {:1.2f}'.format(pval,abs(t_stats)))"
      ],
      "execution_count": null,
      "outputs": [
        {
          "output_type": "stream",
          "text": [
            "p-value 0.21 < alpha (0.5) which means H0 is rejected. The mean between two transmissions is not equal,\n",
            "but they are not significantly different because the t-stats value is only 1.29\n"
          ],
          "name": "stdout"
        }
      ]
    },
    {
      "cell_type": "markdown",
      "metadata": {
        "id": "Hsm9BC7HvZkj",
        "colab_type": "text"
      },
      "source": [
        "##**Correlation**"
      ]
    },
    {
      "cell_type": "code",
      "metadata": {
        "id": "uRp4-h4_N4Jp",
        "colab_type": "code",
        "colab": {
          "base_uri": "https://localhost:8080/",
          "height": 503
        },
        "outputId": "d49030fa-f85b-4d0e-8892-f12192d79575"
      },
      "source": [
        "cor = df.corr()\n",
        "fig,ax=plt.subplots(figsize=(16,8))\n",
        "\n",
        "sns.heatmap(cor, annot=True)"
      ],
      "execution_count": 220,
      "outputs": [
        {
          "output_type": "execute_result",
          "data": {
            "text/plain": [
              "<matplotlib.axes._subplots.AxesSubplot at 0x7fd968b2b390>"
            ]
          },
          "metadata": {
            "tags": []
          },
          "execution_count": 220
        },
        {
          "output_type": "display_data",
          "data": {
            "image/png": "[encoded data removed]",
            "text/plain": [
              "<Figure size 1152x576 with 2 Axes>"
            ]
          },
          "metadata": {
            "tags": [],
            "needs_background": "light"
          }
        }
      ]
    },
    {
      "cell_type": "markdown",
      "metadata": {
        "id": "NigbfojkSyXA",
        "colab_type": "text"
      },
      "source": [
        "##Displacement vs Horsepower by Engine"
      ]
    },
    {
      "cell_type": "code",
      "metadata": {
        "id": "RupJ9tKk7nBy",
        "colab_type": "code",
        "colab": {
          "base_uri": "https://localhost:8080/",
          "height": 496
        },
        "outputId": "4b525f4e-aeb3-4226-e11e-24729c066602"
      },
      "source": [
        "fig,ax=plt.subplots(figsize=(16,8))\n",
        "ax = sns.scatterplot(x=\"disp\", y=\"hp\", style=\"vs\",s=100,data=df)"
      ],
      "execution_count": null,
      "outputs": [
        {
          "output_type": "display_data",
          "data": {
            "image/png": "[encoded data removed]",
            "text/plain": [
              "<Figure size 1152x576 with 1 Axes>"
            ]
          },
          "metadata": {
            "tags": [],
            "needs_background": "light"
          }
        }
      ]
    },
    {
      "cell_type": "markdown",
      "metadata": {
        "id": "60C9nzx4wLIR",
        "colab_type": "text"
      },
      "source": [
        "We can see that average of displacement value from **V-shape engine** is above **250cu.in** and it has the highest horsepower : **above 300** . Meanwhile, displacement of **Straight engine** is **less than 300cu.in** and the highest horsepower of Straight engine is only **around 120hp**."
      ]
    },
    {
      "cell_type": "markdown",
      "metadata": {
        "id": "jXwq2B6fS8E-",
        "colab_type": "text"
      },
      "source": [
        "##Weight vs Horsepower by Transmission"
      ]
    },
    {
      "cell_type": "code",
      "metadata": {
        "id": "NWjMtz5ZQBPY",
        "colab_type": "code",
        "colab": {
          "base_uri": "https://localhost:8080/",
          "height": 513
        },
        "outputId": "593ecfe9-0035-4613-fdf6-45353374b8f4"
      },
      "source": [
        "g = sns.FacetGrid(df, col=\"am\", height=7)\n",
        "g = g.map(plt.scatter, \"mpg\", \"wt\", edgecolor=\"w\")"
      ],
      "execution_count": 225,
      "outputs": [
        {
          "output_type": "display_data",
          "data": {
            "image/png": "[encoded data removed]",
            "text/plain": [
              "<Figure size 1008x504 with 2 Axes>"
            ]
          },
          "metadata": {
            "tags": [],
            "needs_background": "light"
          }
        }
      ]
    },
    {
      "cell_type": "markdown",
      "metadata": {
        "id": "khXAhpp80viG",
        "colab_type": "text"
      },
      "source": [
        "**Manual transmission** cars are **more fuel-efficient and lighter** than Automatic transmission cars. "
      ]
    },
    {
      "cell_type": "markdown",
      "metadata": {
        "id": "2D1uunyc6Hu-",
        "colab_type": "text"
      },
      "source": [
        "##**Number of Carburator**"
      ]
    },
    {
      "cell_type": "code",
      "metadata": {
        "id": "Kjs9wXoYQ4JV",
        "colab_type": "code",
        "colab": {
          "base_uri": "https://localhost:8080/",
          "height": 496
        },
        "outputId": "e8540350-db07-41df-b97a-2e9a39aae15c"
      },
      "source": [
        "labels = df.carb.value_counts().index\n",
        "colors = ['moccasin','tomato','palegreen','thistle','lightsteelblue','gold']\n",
        "explode = [0,0,0,0,0,0]\n",
        "ax = df.carb.value_counts().values\n",
        "plt.figure(0,figsize = (8,16))\n",
        "plt.pie(ax, explode=explode, labels=labels, colors=colors, autopct='%1.1f%%',textprops={'fontsize': 14}, shadow=True)\n",
        "plt.title('Number of Carburators',color = 'red',fontsize = 18)\n",
        "plt.legend(labels,loc=3)\n",
        "plt.show()"
      ],
      "execution_count": 227,
      "outputs": [
        {
          "output_type": "display_data",
          "data": {
            "image/png": "[encoded data removed]",
            "text/plain": [
              "<Figure size 576x1152 with 1 Axes>"
            ]
          },
          "metadata": {
            "tags": []
          }
        }
      ]
    },
    {
      "cell_type": "markdown",
      "metadata": {
        "id": "8y__ZGgJ8a1o",
        "colab_type": "text"
      },
      "source": [
        "Most cars have 2 and 4 carburators."
      ]
    }
  ]
}